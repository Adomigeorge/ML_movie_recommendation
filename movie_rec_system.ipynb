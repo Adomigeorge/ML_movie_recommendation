{
  "nbformat": 4,
  "nbformat_minor": 0,
  "metadata": {
    "colab": {
      "provenance": [],
      "toc_visible": true,
      "authorship_tag": "ABX9TyOt6d9zCsH43PJNvzSrFDzs",
      "include_colab_link": true
    },
    "kernelspec": {
      "name": "python3",
      "display_name": "Python 3"
    },
    "language_info": {
      "name": "python"
    }
  },
  "cells": [
    {
      "cell_type": "markdown",
      "metadata": {
        "id": "view-in-github",
        "colab_type": "text"
      },
      "source": [
        "<a href=\"https://colab.research.google.com/github/Adomigeorge/ML_movie_recommendation/blob/main/movie_rec_system.ipynb\" target=\"_parent\"><img src=\"https://colab.research.google.com/assets/colab-badge.svg\" alt=\"Open In Colab\"/></a>"
      ]
    },
    {
      "cell_type": "markdown",
      "source": [
        "**Movie recommedation system**"
      ],
      "metadata": {
        "id": "ukeJg6lsnfJx"
      }
    },
    {
      "cell_type": "markdown",
      "source": [
        "Libraries required"
      ],
      "metadata": {
        "id": "RREtlUW9pnek"
      }
    },
    {
      "cell_type": "code",
      "execution_count": null,
      "metadata": {
        "id": "FHuy2f7UhNNo"
      },
      "outputs": [],
      "source": [
        "import numpy as np\n",
        "import pandas as pd\n",
        "import difflib                                                 #finds the closest match to the user input\n",
        "from sklearn.feature_extraction.text import TfidfVectorizer    #converts the text data into numerical values\n",
        "from sklearn.metrics.pairwise import cosine_similarity         #finds the similarities or recommendations to the user search"
      ]
    },
    {
      "cell_type": "markdown",
      "source": [
        "data collection and preprocessing"
      ],
      "metadata": {
        "id": "h6mjUKzYpujS"
      }
    },
    {
      "cell_type": "code",
      "source": [
        "movies_data = pd.read_csv('movies.csv')"
      ],
      "metadata": {
        "id": "xMxfUc2Kp_MW"
      },
      "execution_count": null,
      "outputs": []
    },
    {
      "cell_type": "code",
      "source": [
        "movies_data.head()"
      ],
      "metadata": {
        "id": "QUG-jCZlqa4E"
      },
      "execution_count": null,
      "outputs": []
    },
    {
      "cell_type": "markdown",
      "source": [
        "showing the number of rows and columns."
      ],
      "metadata": {
        "id": "ydE-pIuWukWs"
      }
    },
    {
      "cell_type": "code",
      "source": [
        "rows, columns = movies_data.shape\n",
        "print(f'The number of rows: {rows}')\n",
        "print(f'The number of columns: {columns}')"
      ],
      "metadata": {
        "id": "_GY0fDvfu3lL"
      },
      "execution_count": null,
      "outputs": []
    },
    {
      "cell_type": "markdown",
      "source": [
        "feature selection"
      ],
      "metadata": {
        "id": "Fn5CYhyRwAEe"
      }
    },
    {
      "cell_type": "code",
      "source": [
        "selected_features = ['genres', 'keywords', 'tagline', 'cast', 'director']\n",
        "print(selected_features)"
      ],
      "metadata": {
        "id": "mVCy0oHrwDWy"
      },
      "execution_count": null,
      "outputs": []
    },
    {
      "cell_type": "code",
      "source": [
        "#replacing the null values with null string\n",
        "\n",
        "for feature in selected_features:\n",
        "  movies_data[feature] = movies_data[feature].fillna('')"
      ],
      "metadata": {
        "id": "4psTUkC9xvxt"
      },
      "execution_count": null,
      "outputs": []
    },
    {
      "cell_type": "code",
      "source": [
        "#combine features of the attributes\n",
        "\n",
        "combined_features = movies_data['genres'] + ' ' + movies_data['keywords'] + ' ' + movies_data['tagline'] + ' ' + movies_data['cast'] + ' ' + movies_data['director']"
      ],
      "metadata": {
        "id": "kxXIR2E0yiPe"
      },
      "execution_count": null,
      "outputs": []
    },
    {
      "cell_type": "code",
      "source": [
        "print(combined_features)"
      ],
      "metadata": {
        "id": "iLuOl1g7yySl"
      },
      "execution_count": null,
      "outputs": []
    },
    {
      "cell_type": "markdown",
      "source": [
        "converting the text data into feature vectors//numerical values (Text Vectorization or Feature Extraction.)"
      ],
      "metadata": {
        "id": "h7epBMAAzAIH"
      }
    },
    {
      "cell_type": "code",
      "source": [
        "vectorizer = TfidfVectorizer()                                #var that contains the function library\n",
        "\n",
        "feature_vectors = vectorizer.fit_transform(combined_features) #converting the text to numerics"
      ],
      "metadata": {
        "id": "2rJdvfn_zfO_"
      },
      "execution_count": null,
      "outputs": []
    },
    {
      "cell_type": "code",
      "source": [
        "print(feature_vectors)"
      ],
      "metadata": {
        "id": "-z7xkDRC0Wyh"
      },
      "execution_count": null,
      "outputs": []
    },
    {
      "cell_type": "markdown",
      "source": [
        "cosine similarity"
      ],
      "metadata": {
        "id": "9k_ozE0D1iAN"
      }
    },
    {
      "cell_type": "code",
      "source": [
        "#getting the similarity score using cosine similarity\n",
        "\n",
        "similarity = cosine_similarity(feature_vectors)"
      ],
      "metadata": {
        "id": "hI8qpLBj2LZ4"
      },
      "execution_count": null,
      "outputs": []
    },
    {
      "cell_type": "code",
      "source": [
        "print(similarity)"
      ],
      "metadata": {
        "id": "Kh5v6sdj2bkE"
      },
      "execution_count": null,
      "outputs": []
    },
    {
      "cell_type": "code",
      "source": [
        "print(similarity.shape)"
      ],
      "metadata": {
        "id": "Hz_soRvA2YAa"
      },
      "execution_count": null,
      "outputs": []
    },
    {
      "cell_type": "markdown",
      "source": [
        "getting the movie name from the user"
      ],
      "metadata": {
        "id": "zCt61oyc3jol"
      }
    },
    {
      "cell_type": "code",
      "source": [
        "movie_name = input('Enter your favorite movie name: ')"
      ],
      "metadata": {
        "id": "yLHicRSw4Czk"
      },
      "execution_count": null,
      "outputs": []
    },
    {
      "cell_type": "code",
      "source": [
        "#creating a list with all the movie names present in the data\n",
        "\n",
        "list_of_all_titles = movies_data['title'].tolist()\n",
        "print(list_of_all_titles)\n"
      ],
      "metadata": {
        "id": "zza-jj6w4G0D"
      },
      "execution_count": null,
      "outputs": []
    },
    {
      "cell_type": "markdown",
      "source": [
        "finding close match from the data, the movie name given by the user"
      ],
      "metadata": {
        "id": "URp0rLaq5Eb4"
      }
    },
    {
      "cell_type": "code",
      "source": [
        "find_close_match = difflib.get_close_matches(movie_name, list_of_all_titles)\n",
        "print(find_close_match)"
      ],
      "metadata": {
        "id": "vqkp8HmX58f1"
      },
      "execution_count": null,
      "outputs": []
    },
    {
      "cell_type": "code",
      "source": [
        "\n",
        "close_match = find_close_match[0]\n",
        "print(close_match)"
      ],
      "metadata": {
        "id": "Pk0LbY5P6i4L"
      },
      "execution_count": null,
      "outputs": []
    },
    {
      "cell_type": "markdown",
      "source": [
        "finding the index of the movie"
      ],
      "metadata": {
        "id": "IqEkEfGn7fDl"
      }
    },
    {
      "cell_type": "code",
      "source": [
        "index_of_the_movie = movies_data[movies_data.title == close_match]['index'].values[0]\n",
        "print(index_of_the_movie)"
      ],
      "metadata": {
        "colab": {
          "base_uri": "https://localhost:8080/"
        },
        "id": "pkdbm7e17YS4",
        "outputId": "77319f99-88c0-4294-afa8-ab80f4c88cd6"
      },
      "execution_count": null,
      "outputs": [
        {
          "output_type": "stream",
          "name": "stdout",
          "text": [
            "3835\n"
          ]
        }
      ]
    },
    {
      "cell_type": "markdown",
      "source": [
        "getting a list of similar movies"
      ],
      "metadata": {
        "id": "aOD2y7yc8hBb"
      }
    },
    {
      "cell_type": "code",
      "source": [
        "similarity_score = list(enumerate(similarity[index_of_the_movie])) #enumerate works like a loop, goes through all the rows\n",
        "print(similarity_score)"
      ],
      "metadata": {
        "id": "EOMKbl8A8uCw"
      },
      "execution_count": null,
      "outputs": []
    },
    {
      "cell_type": "code",
      "source": [
        "len(similarity_score) #"
      ],
      "metadata": {
        "id": "BR7YXQnH-YUR"
      },
      "execution_count": null,
      "outputs": []
    },
    {
      "cell_type": "markdown",
      "source": [
        "sorting the movies based on the similarity scores"
      ],
      "metadata": {
        "id": "j3AOGfYB-ct9"
      }
    },
    {
      "cell_type": "code",
      "source": [
        "sorted_similar_movies = sorted(similarity_score, key = lambda x:x[1], reverse = True)\n",
        "print(sorted_similar_movies)"
      ],
      "metadata": {
        "id": "hSbSTxNE-i3_"
      },
      "execution_count": null,
      "outputs": []
    },
    {
      "cell_type": "markdown",
      "source": [
        "show the names of the similar movies based on the index"
      ],
      "metadata": {
        "id": "kmD-iUkoAh-4"
      }
    },
    {
      "cell_type": "code",
      "source": [
        "print('Movies suggested for you: \\n')\n",
        "\n",
        "i = 1\n",
        "\n",
        "for movie in sorted_similar_movies:\n",
        "  index = movie[0]\n",
        "  title_from_index = movies_data[movies_data.index == index]['title'].values[0]\n",
        "  if (i<11):\n",
        "    print(i, '.', title_from_index)\n",
        "    i+=1"
      ],
      "metadata": {
        "id": "b9ClNHstGp_Q"
      },
      "execution_count": null,
      "outputs": []
    },
    {
      "cell_type": "markdown",
      "source": [
        "Movie recommendation system"
      ],
      "metadata": {
        "id": "Kvi9vVEMIRYI"
      }
    },
    {
      "cell_type": "code",
      "source": [
        "movie_name = input('Enter your favorite movie name: ')\n",
        "\n",
        "list_of_all_titles = movies_data['title'].tolist()\n",
        "\n",
        "find_close_match = difflib.get_close_matches(movie_name, list_of_all_titles)\n",
        "\n",
        "close_match = find_close_match[0]\n",
        "\n",
        "index_of_the_movie = movies_data[movies_data.title == close_match]['index'].values[0]\n",
        "\n",
        "similarity_score = list(enumerate(similarity[index_of_the_movie]))\n",
        "\n",
        "sorted_similar_movies = sorted(similarity_score, key = lambda x:x[1], reverse = True)\n",
        "\n",
        "print('Movies suggested for you: \\n')\n",
        "\n",
        "i = 1\n",
        "\n",
        "for movie in sorted_similar_movies:\n",
        "  index = movie[0]\n",
        "  title_from_index = movies_data[movies_data.index == index]['title'].values[0]\n",
        "  if (i<11):\n",
        "    print(i, '.', title_from_index)\n",
        "    i+=1"
      ],
      "metadata": {
        "id": "PEDkzeq7IW_7"
      },
      "execution_count": null,
      "outputs": []
    },
    {
      "cell_type": "markdown",
      "source": [
        "connect to google drive to get tht data"
      ],
      "metadata": {
        "id": "dGni8m_OogRA"
      }
    },
    {
      "cell_type": "code",
      "source": [
        "from google.colab import drive\n",
        "drive.mount('/content/drive')"
      ],
      "metadata": {
        "id": "DGH_szA2VL-5"
      },
      "execution_count": null,
      "outputs": []
    }
  ]
}